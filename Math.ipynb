{
 "cells": [
  {
   "cell_type": "markdown",
   "metadata": {},
   "source": [
    "# Eucleidan algorithm (GCD) for N numbers\n",
    "\n",
    "The largest common divisor (GCD), also called highest common factor (HCF) of N numbers is the largest positive integer that divides all numbers without giving a remaninder.\n",
    "\n",
    "Write an algorithm to determine the GCD of N positive integers.\n",
    "\n",
    "##### Input\n",
    "* num - an integer representing the number of positive integers (N).\n",
    "* arr - a list of positive integers.\n",
    "\n",
    "##### Output\n",
    "Return an integer representing the GCD of the given positive integers\n",
    "\n",
    "##### Test cases\n",
    "* num = 5, arr = [2,4,6,8,10]\n",
    "\n",
    "##### Solution\n",
    "This algorithm (Eucleidan algorithm) is based on the fact that H.C.F. of two numbers divides their difference as well.\n",
    "In this algorithm, we divide the greater by smaller and take the remainder. Now, divide the smaller by this remainder. Repeat until the remainder is 0.\n"
   ]
  },
  {
   "cell_type": "code",
   "execution_count": 1,
   "metadata": {},
   "outputs": [
    {
     "data": {
      "text/plain": [
       "2"
      ]
     },
     "execution_count": 1,
     "metadata": {},
     "output_type": "execute_result"
    }
   ],
   "source": [
    "\n",
    "\n",
    "def generalGCD(num,array) :\n",
    "    \"\"\" The GCD of three or more numbers equals the product of the prime factors common to all the numbers,\n",
    "    but it can also be calculated by repeatedly taking the GCDs of pairs of numbers.\n",
    "    \"\"\"\n",
    "    def singleGCD(a,b) :\n",
    "        \"\"\" Here we loop until y becomes zero. The statement x, y = y, x % y does swapping\n",
    "        of values in Python. Click here to learn more about swapping variables in Python.\n",
    "        In each iteration, we place the value of y in x and the remainder (x % y) in y, simultaneously.\n",
    "        When y becomes zero, we have H.C.F. in x.\n",
    "        For an array of elements, we do the following. We will also check for the result if the result\n",
    "        at any step becomes 1 we will just return the 1 as gcd(1,x)=1.\n",
    "        \"\"\"  \n",
    "    \n",
    "        while(b) :\n",
    "            a, b = b, a % b\n",
    "        return a\n",
    "\n",
    "    \n",
    "    gcd = singleGCD(array[0],array[1])\n",
    "\n",
    "    for i in range(2,num):\n",
    "        gcd = singleGCD(gcd, array[i])\n",
    "        \n",
    "    return gcd\n",
    "\n",
    "\n",
    "\n",
    "array = [2, 4, 6, 8, 10] \n",
    "num = len(array)\n",
    "\n",
    "generalGCD(num,array)\n",
    "\n"
   ]
  }
 ],
 "metadata": {
  "kernelspec": {
   "display_name": "Python 3",
   "language": "python",
   "name": "python3"
  },
  "language_info": {
   "codemirror_mode": {
    "name": "ipython",
    "version": 3
   },
   "file_extension": ".py",
   "mimetype": "text/x-python",
   "name": "python",
   "nbconvert_exporter": "python",
   "pygments_lexer": "ipython3",
   "version": "3.7.0"
  }
 },
 "nbformat": 4,
 "nbformat_minor": 2
}
