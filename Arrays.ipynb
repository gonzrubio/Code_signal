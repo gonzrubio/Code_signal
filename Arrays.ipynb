{
 "cells": [
  {
   "cell_type": "markdown",
   "metadata": {},
   "source": [
    "# First Duplicate"
   ]
  },
  {
   "cell_type": "code",
   "execution_count": 1,
   "metadata": {},
   "outputs": [
    {
     "name": "stdout",
     "output_type": "stream",
     "text": [
      "1\n",
      "6\n",
      "-1\n"
     ]
    }
   ],
   "source": [
    "# Modify to work with numpyarrays\n",
    "\n",
    "'''A: Make an array filled with zeros of size a.length. When scanning\n",
    "the array and your encounter the number n, check if the corresponding\n",
    "element of the zero array is still zero. It if its zeo, change to non-zero, else\n",
    "return n as you have encountered a duplicate.\n",
    "Guaranteed constraints:\n",
    "1 ≤ a.length ≤ 10^5,\n",
    "1 ≤ a[i] ≤ a.length.'''\n",
    "\n",
    "def firstDuplicate(a) :\n",
    "    '''Return the element in array a that occurs in the array\n",
    "    more than once and has minimal index for its second occurrence.\n",
    "    If there are not duplicates, return -1.'''\n",
    "\n",
    "    seen = [0] * len(a)\n",
    "    for element in a :\n",
    "        if seen[element-1] == 0 :\n",
    "            seen[element-1] = 1\n",
    "        else :\n",
    "            return element              \n",
    "    return -1\n",
    "\n",
    "b = [1, 1, 2, 2, 1]\n",
    "print(firstDuplicate(b))\n",
    "b = [8, 4, 6, 2, 6, 4, 7, 9, 5, 8]\n",
    "print(firstDuplicate(b))\n",
    "b = [2, 4, 3, 5, 1]\n",
    "print(firstDuplicate(b))\n",
    "\n",
    "def firstDuplicate(a):\n",
    "    mySet=set()\n",
    "    for el in a:\n",
    "        if el in mySet:\n",
    "            return el\n",
    "        mySet.add(el)\n",
    "    return -1\n"
   ]
  },
  {
   "cell_type": "markdown",
   "metadata": {},
   "source": [
    "# First Not Repeating Character"
   ]
  },
  {
   "cell_type": "code",
   "execution_count": 74,
   "metadata": {},
   "outputs": [
    {
     "name": "stdout",
     "output_type": "stream",
     "text": [
      "z\n",
      "c\n",
      "_\n",
      "g\n"
     ]
    }
   ],
   "source": [
    "\n",
    "def firstNotRepeatingCharacter(s) :\n",
    "    \"\"\"Given a string s consisting of small English letters,\n",
    "    find and return the first instance of a non-repeating\n",
    "    character in it. If there is no such character, return '_'.\n",
    "    ie. For s = \"abacabad\", the output should be\n",
    "    firstNotRepeatingCharacter(s) = 'c'.\n",
    "    ie. For s = \"abacabaabacaba\", the output should be\n",
    "    firstNotRepeatingCharacter(s) = '_'.\"\"\"    \n",
    "\n",
    "    count = [0] * 26 # Pre-allocate space in case all letters are unique.\n",
    "\n",
    "    for letter in s :\n",
    "        count[ord(letter) - 97] += 1 # Convert char to ASCII value. Account for zero indexing and update count.        \n",
    "    \n",
    "    # Compare list of letters on the left to get the first occurence, not the first letter in alphabetical order.\n",
    "    for letter in s :\n",
    "        # Get the index of letter in the alphabet\n",
    "        if count[ord(letter) - 97] == 1 :\n",
    "            return letter\n",
    "\n",
    "    return '_' # If no repeting characters.\n",
    "    \n",
    "    \n",
    "print(firstNotRepeatingCharacter(\"z\"))\n",
    "print(firstNotRepeatingCharacter(\"abacabad\"))\n",
    "print(firstNotRepeatingCharacter(\"abacabaabacaba\"))\n",
    "print(firstNotRepeatingCharacter(\"ngna\"))\n",
    "\n",
    "def firstNotRepeatingCharacter(s):\n",
    "    for c in s:\n",
    "        if s.index(c) == s.rindex(c):\n",
    "            return c\n",
    "    return '_'\n"
   ]
  },
  {
   "cell_type": "markdown",
   "metadata": {},
   "source": [
    "## Rotate Image\n",
    "<p> Solve this task in-place (with O(1) additional memory). You are given an n x n 2D matrix that represents an image. Rotate the image by 90 degrees (clockwise).\n",
    "    \n",
    "<p> 1 ≤ a.length ≤ 100 At least one column, at most 100.\n",
    "<p> a[i].length = a.length This are square matrices only.\n",
    "<p> 1 ≤ a[i][j] ≤ 10^4 Each entry is positive and less than or eauql to 10^4"
   ]
  },
  {
   "cell_type": "code",
   "execution_count": 116,
   "metadata": {},
   "outputs": [
    {
     "name": "stdout",
     "output_type": "stream",
     "text": [
      "[[1, 2, 3], [4, 5, 6], [7, 8, 9]]\n",
      "[[7, 8, 9], [4, 5, 6], [1, 2, 3]]\n",
      "[[7 4 1]\n",
      " [8 5 2]\n",
      " [9 6 3]]\n",
      "[1]\n",
      "[[ 6  8  7  6 10]\n",
      " [ 8  9  6 10  9]\n",
      " [ 6  7  3  2  6]\n",
      " [ 8  9  8  9  3]\n",
      " [ 2  9  2  7  7]]\n"
     ]
    }
   ],
   "source": [
    "import numpy as np\n",
    "\n",
    "\n",
    "def rotateImage(a) : \n",
    "    ''' Rotate 90 degrees input array'''\n",
    "    return np.transpose(np.array(a[::-1]))\n",
    "\n",
    "\n",
    "\n",
    "a = [[1,2,3], \n",
    " [4,5,6], \n",
    " [7,8,9]]\n",
    "print(a)\n",
    "print(a[::-1])\n",
    "print(rotateImage(a))\n",
    "print(rotateImage([1]))\n",
    "a=[[10,9,6,3,7], \n",
    " [6,10,2,9,7], \n",
    " [7,6,3,8,2], \n",
    " [8,9,7,9,9], \n",
    " [6,8,6,8,2]]\n",
    "print(rotateImage(a))\n",
    "\n",
    "def rotateImage(a):\n",
    "    a.reverse()\n",
    "    for i in range(len(a)):\n",
    "        for j in range(i):\n",
    "            a[i][j], a[j][i] = a[j][i], a[i][j]\n",
    "    return a\n"
   ]
  },
  {
   "cell_type": "markdown",
   "metadata": {},
   "source": [
    "# Sudoku2"
   ]
  },
  {
   "cell_type": "code",
   "execution_count": 100,
   "metadata": {},
   "outputs": [
    {
     "name": "stdout",
     "output_type": "stream",
     "text": [
      "247 µs ± 11 µs per loop (mean ± std. dev. of 7 runs, 1000 loops each)\n"
     ]
    }
   ],
   "source": [
    "# Make isrowunique method to make code more compact\n",
    "def sudoku2(grid) :\n",
    "\n",
    "    import numpy as np\n",
    "    \n",
    "    for irow in range(9) :\n",
    "        \n",
    "        seen = set() \n",
    "        row = grid[irow]        \n",
    "    \n",
    "        for number in row : # Check rows.\n",
    "            if number not in seen and str(number) != '.' :\n",
    "                seen.add(number)\n",
    "            elif number in seen :\n",
    "                return False\n",
    "        \n",
    "    AT = list(map(list, zip(*grid))) # Check columns.\n",
    "    for irow in range(9) :\n",
    "        \n",
    "        seen =set()\n",
    "        row = AT[irow]\n",
    "        \n",
    "        for number in row :\n",
    "            if number not in seen and str(number) != '.' :\n",
    "                seen.add(number)\n",
    "            elif number in seen :\n",
    "                return False\n",
    "\n",
    "    for i in range(3) : # row block\n",
    "        for j in range (3) : # column block\n",
    "            \n",
    "            seen = set()\n",
    "            subgrid_vec = np.array(grid)[3*i:3*(i+1),3*j:3*(j+1)].flatten() # vectorize subgrid\n",
    "            \n",
    "            for number in subgrid_vec :\n",
    "                if number not in seen and str(number) != '.' :\n",
    "                    seen.add(number)\n",
    "                elif number in seen :\n",
    "                    return False\n",
    "\n",
    "    return True           \n",
    "            \n",
    " \n",
    "A = [[\".\",\".\",\".\",\"1\",\"4\",\".\",\".\",\"2\",\".\"], \n",
    " [\".\",\".\",\"6\",\".\",\".\",\".\",\".\",\".\",\".\"], \n",
    " [\".\",\".\",\".\",\".\",\".\",\".\",\".\",\".\",\".\"], \n",
    " [\".\",\".\",\"1\",\".\",\".\",\".\",\".\",\".\",\".\"], \n",
    " [\".\",\"6\",\"7\",\".\",\".\",\".\",\".\",\".\",\"9\"], \n",
    " [\".\",\".\",\".\",\".\",\".\",\".\",\"8\",\"1\",\".\"], \n",
    " [\".\",\"3\",\".\",\".\",\".\",\".\",\".\",\".\",\"6\"], \n",
    " [\".\",\".\",\".\",\".\",\".\",\"7\",\".\",\".\",\".\"], \n",
    " [\".\",\".\",\".\",\"5\",\".\",\".\",\".\",\"7\",\".\"]]\n",
    "\n",
    "#%%timeit print(sudoku2(A))       \n",
    "%timeit sudoku2(A)\n",
    "\n",
    "\n",
    "def check_unique(nums):\n",
    "    s = set()\n",
    "    for num in nums:\n",
    "        if num == '.':\n",
    "            continue \n",
    "            \n",
    "        if num in s:\n",
    "            return False\n",
    "        s.add(num)\n",
    "    return True\n",
    "        \n",
    "\n",
    "def sudoku3(grid):\n",
    "    for line in grid:\n",
    "        if not check_unique(line):\n",
    "            return False\n",
    "    \n",
    "    for i in range(9):\n",
    "        if not check_unique([line[i] for line in grid]):\n",
    "            return False\n",
    "        \n",
    "    for i in range(0,9,3):\n",
    "        for j in range(0, 9, 3):\n",
    "            if not check_unique(grid[i][j:j+3] + grid[i+1][j:j+3] + grid[i+2][j:j+3]):\n",
    "                return False\n",
    "            \n",
    "    return True"
   ]
  },
  {
   "cell_type": "markdown",
   "metadata": {},
   "source": [
    "# Cryptarythm"
   ]
  },
  {
   "cell_type": "code",
   "execution_count": 51,
   "metadata": {},
   "outputs": [
    {
     "name": "stdout",
     "output_type": "stream",
     "text": [
      "True\n",
      "False\n"
     ]
    }
   ],
   "source": [
    "def isCryptSolution(crypt, solution) :\n",
    "    \n",
    "    # Build dictionary to map crypt to equation\n",
    "    mapping = dict()\n",
    "\n",
    "    for pair in solution :\n",
    "        mapping[pair[0]] = pair[1]    \n",
    "\n",
    "    # Map crypt to equation\n",
    "    idx = 0\n",
    "    equation = [[],[],[]]\n",
    "    \n",
    "    for word in crypt :\n",
    "        str_number = ''\n",
    "        for letter in word :\n",
    "            str_number += mapping[letter]\n",
    "        if len(str_number) > 1 and str_number[0] == '0' :\n",
    "            return False\n",
    "        equation[idx] = int(str_number)\n",
    "        idx += 1    \n",
    "        \n",
    "    # Is equation valid\n",
    "    return equation[0] + equation[1] == equation[2]    \n",
    "\n",
    "\n",
    "crypt = [\"SEND\", \n",
    " \"MORE\", \n",
    " \"MONEY\"]\n",
    "\n",
    "solution = [[\"O\",\"0\"], \n",
    " [\"M\",\"1\"], \n",
    " [\"Y\",\"2\"], \n",
    " [\"E\",\"5\"], \n",
    " [\"N\",\"6\"], \n",
    " [\"D\",\"7\"], \n",
    " [\"R\",\"8\"], \n",
    " [\"S\",\"9\"]]\n",
    "\n",
    "print(isCryptSolution(crypt, solution))\n",
    "\n",
    "crypt = [\"TEN\", \n",
    " \"TWO\", \n",
    " \"ONE\"]\n",
    "\n",
    "solution = [[\"O\",\"1\"], \n",
    " [\"T\",\"0\"], \n",
    " [\"W\",\"9\"], \n",
    " [\"E\",\"5\"], \n",
    " [\"N\",\"4\"]]\n",
    "\n",
    "print(isCryptSolution(crypt, solution))"
   ]
  }
 ],
 "metadata": {
  "kernelspec": {
   "display_name": "Python 3",
   "language": "python",
   "name": "python3"
  },
  "language_info": {
   "codemirror_mode": {
    "name": "ipython",
    "version": 3
   },
   "file_extension": ".py",
   "mimetype": "text/x-python",
   "name": "python",
   "nbconvert_exporter": "python",
   "pygments_lexer": "ipython3",
   "version": "3.7.0"
  }
 },
 "nbformat": 4,
 "nbformat_minor": 2
}
